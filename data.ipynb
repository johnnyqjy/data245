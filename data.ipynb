{
 "cells": [
  {
   "cell_type": "markdown",
   "source": [
    "## Load data"
   ],
   "metadata": {
    "collapsed": false
   }
  },
  {
   "cell_type": "code",
   "execution_count": 1,
   "outputs": [],
   "source": [
    "import pandas as pd\n",
    "import matplotlib.pyplot as plt\n",
    "\n",
    "df = pd.read_csv('https://zenodo.org/record/5550238/files/osdg-community-dataset-v21-09-30.csv?download=1', sep='\\t')"
   ],
   "metadata": {
    "collapsed": false
   }
  },
  {
   "cell_type": "code",
   "execution_count": 2,
   "outputs": [
    {
     "data": {
      "text/plain": "                          doi                           text_id  \\\n0  10.6027/9789289342698-7-en  00021941702cd84171ff33962197ca1f   \n1        10.18356/eca72908-en  00028349a7f9b2485ff344ae44ccfd6b   \n2  10.1787/9789264289062-4-en  0004eb64f96e1620cd852603d9cbe4d4   \n3     10.1787/5k9b7bn5qzvd-en  0006a887475ccfa5a7f5f51d4ac83d02   \n4  10.1787/9789264258211-6-en  0006d6e7593776abbdf4a6f985ea6d95   \n\n                                                text  sdg  labels_negative  \\\n0  From a gender perspective, Paulgaard points ou...    5                1   \n1  Labour legislation regulates maximum working h...   11                2   \n2  The average figure also masks large difference...    3                1   \n3  The extent to which they are akin to corruptio...    3                1   \n4  A region reporting a higher rate will not earn...    3                2   \n\n   labels_positive  agreement  \n0                7   0.750000  \n1                1   0.333333  \n2                6   0.714286  \n3                2   0.333333  \n4                2   0.000000  ",
      "text/html": "<div>\n<style scoped>\n    .dataframe tbody tr th:only-of-type {\n        vertical-align: middle;\n    }\n\n    .dataframe tbody tr th {\n        vertical-align: top;\n    }\n\n    .dataframe thead th {\n        text-align: right;\n    }\n</style>\n<table border=\"1\" class=\"dataframe\">\n  <thead>\n    <tr style=\"text-align: right;\">\n      <th></th>\n      <th>doi</th>\n      <th>text_id</th>\n      <th>text</th>\n      <th>sdg</th>\n      <th>labels_negative</th>\n      <th>labels_positive</th>\n      <th>agreement</th>\n    </tr>\n  </thead>\n  <tbody>\n    <tr>\n      <th>0</th>\n      <td>10.6027/9789289342698-7-en</td>\n      <td>00021941702cd84171ff33962197ca1f</td>\n      <td>From a gender perspective, Paulgaard points ou...</td>\n      <td>5</td>\n      <td>1</td>\n      <td>7</td>\n      <td>0.750000</td>\n    </tr>\n    <tr>\n      <th>1</th>\n      <td>10.18356/eca72908-en</td>\n      <td>00028349a7f9b2485ff344ae44ccfd6b</td>\n      <td>Labour legislation regulates maximum working h...</td>\n      <td>11</td>\n      <td>2</td>\n      <td>1</td>\n      <td>0.333333</td>\n    </tr>\n    <tr>\n      <th>2</th>\n      <td>10.1787/9789264289062-4-en</td>\n      <td>0004eb64f96e1620cd852603d9cbe4d4</td>\n      <td>The average figure also masks large difference...</td>\n      <td>3</td>\n      <td>1</td>\n      <td>6</td>\n      <td>0.714286</td>\n    </tr>\n    <tr>\n      <th>3</th>\n      <td>10.1787/5k9b7bn5qzvd-en</td>\n      <td>0006a887475ccfa5a7f5f51d4ac83d02</td>\n      <td>The extent to which they are akin to corruptio...</td>\n      <td>3</td>\n      <td>1</td>\n      <td>2</td>\n      <td>0.333333</td>\n    </tr>\n    <tr>\n      <th>4</th>\n      <td>10.1787/9789264258211-6-en</td>\n      <td>0006d6e7593776abbdf4a6f985ea6d95</td>\n      <td>A region reporting a higher rate will not earn...</td>\n      <td>3</td>\n      <td>2</td>\n      <td>2</td>\n      <td>0.000000</td>\n    </tr>\n  </tbody>\n</table>\n</div>"
     },
     "execution_count": 2,
     "metadata": {},
     "output_type": "execute_result"
    }
   ],
   "source": [
    "df.head()"
   ],
   "metadata": {
    "collapsed": false
   }
  },
  {
   "cell_type": "code",
   "execution_count": 3,
   "outputs": [
    {
     "name": "stdout",
     "output_type": "stream",
     "text": [
      "<class 'pandas.core.frame.DataFrame'>\n",
      "RangeIndex: 32120 entries, 0 to 32119\n",
      "Data columns (total 7 columns):\n",
      " #   Column           Non-Null Count  Dtype  \n",
      "---  ------           --------------  -----  \n",
      " 0   doi              32120 non-null  object \n",
      " 1   text_id          32120 non-null  object \n",
      " 2   text             32120 non-null  object \n",
      " 3   sdg              32120 non-null  int64  \n",
      " 4   labels_negative  32120 non-null  int64  \n",
      " 5   labels_positive  32120 non-null  int64  \n",
      " 6   agreement        32120 non-null  float64\n",
      "dtypes: float64(1), int64(3), object(3)\n",
      "memory usage: 1.7+ MB\n"
     ]
    }
   ],
   "source": [
    "df.info()"
   ],
   "metadata": {
    "collapsed": false
   }
  },
  {
   "cell_type": "markdown",
   "source": [
    "### Remove unwanted columns\n"
   ],
   "metadata": {
    "collapsed": false
   }
  },
  {
   "cell_type": "code",
   "execution_count": 4,
   "outputs": [
    {
     "data": {
      "text/plain": "                                                    text  sdg  agreement\n0      From a gender perspective, Paulgaard points ou...    5   0.750000\n1      Labour legislation regulates maximum working h...   11   0.333333\n2      The average figure also masks large difference...    3   0.714286\n3      The extent to which they are akin to corruptio...    3   0.333333\n4      A region reporting a higher rate will not earn...    3   0.000000\n...                                                  ...  ...        ...\n32115  It also features individual accountability, wh...    4   1.000000\n32116  Since the full capacity is not likely to be ut...    7   0.111111\n32117  Groundwater quality can also be affected by co...    6   1.000000\n32118  Remedier a ces lacunes est la recommandation p...    2   0.000000\n32119  The three diseases that resulted in the greate...    3   0.600000\n\n[32120 rows x 3 columns]",
      "text/html": "<div>\n<style scoped>\n    .dataframe tbody tr th:only-of-type {\n        vertical-align: middle;\n    }\n\n    .dataframe tbody tr th {\n        vertical-align: top;\n    }\n\n    .dataframe thead th {\n        text-align: right;\n    }\n</style>\n<table border=\"1\" class=\"dataframe\">\n  <thead>\n    <tr style=\"text-align: right;\">\n      <th></th>\n      <th>text</th>\n      <th>sdg</th>\n      <th>agreement</th>\n    </tr>\n  </thead>\n  <tbody>\n    <tr>\n      <th>0</th>\n      <td>From a gender perspective, Paulgaard points ou...</td>\n      <td>5</td>\n      <td>0.750000</td>\n    </tr>\n    <tr>\n      <th>1</th>\n      <td>Labour legislation regulates maximum working h...</td>\n      <td>11</td>\n      <td>0.333333</td>\n    </tr>\n    <tr>\n      <th>2</th>\n      <td>The average figure also masks large difference...</td>\n      <td>3</td>\n      <td>0.714286</td>\n    </tr>\n    <tr>\n      <th>3</th>\n      <td>The extent to which they are akin to corruptio...</td>\n      <td>3</td>\n      <td>0.333333</td>\n    </tr>\n    <tr>\n      <th>4</th>\n      <td>A region reporting a higher rate will not earn...</td>\n      <td>3</td>\n      <td>0.000000</td>\n    </tr>\n    <tr>\n      <th>...</th>\n      <td>...</td>\n      <td>...</td>\n      <td>...</td>\n    </tr>\n    <tr>\n      <th>32115</th>\n      <td>It also features individual accountability, wh...</td>\n      <td>4</td>\n      <td>1.000000</td>\n    </tr>\n    <tr>\n      <th>32116</th>\n      <td>Since the full capacity is not likely to be ut...</td>\n      <td>7</td>\n      <td>0.111111</td>\n    </tr>\n    <tr>\n      <th>32117</th>\n      <td>Groundwater quality can also be affected by co...</td>\n      <td>6</td>\n      <td>1.000000</td>\n    </tr>\n    <tr>\n      <th>32118</th>\n      <td>Remedier a ces lacunes est la recommandation p...</td>\n      <td>2</td>\n      <td>0.000000</td>\n    </tr>\n    <tr>\n      <th>32119</th>\n      <td>The three diseases that resulted in the greate...</td>\n      <td>3</td>\n      <td>0.600000</td>\n    </tr>\n  </tbody>\n</table>\n<p>32120 rows × 3 columns</p>\n</div>"
     },
     "execution_count": 4,
     "metadata": {},
     "output_type": "execute_result"
    }
   ],
   "source": [
    "# Remove unwanted columns\n",
    "# data = data.drop(['doi', 'text_id', 'labels_negative', 'labels_positive', 'agreement']\n",
    "df = df.drop(['doi', 'text_id', 'labels_negative', 'labels_positive'], axis=1)\n",
    "df"
   ],
   "metadata": {
    "collapsed": false
   }
  },
  {
   "cell_type": "markdown",
   "source": [
    "### Remove stop words"
   ],
   "metadata": {
    "collapsed": false
   }
  },
  {
   "cell_type": "code",
   "execution_count": 5,
   "outputs": [
    {
     "name": "stderr",
     "output_type": "stream",
     "text": [
      "[nltk_data] Downloading package stopwords to /Users/pan/nltk_data...\n",
      "[nltk_data]   Package stopwords is already up-to-date!\n"
     ]
    }
   ],
   "source": [
    "import nltk\n",
    "nltk.download('stopwords')\n",
    "from nltk.corpus import stopwords\n",
    "import string\n",
    "\n",
    "#remove the punctuations and stopwords\n",
    "def text_process(text):\n",
    "    text = text.translate(str.maketrans('', '', string.punctuation))\n",
    "    text = [word for word in text.split() if word.lower() not in stopwords.words('english')]\n",
    "    return \" \".join(text)"
   ],
   "metadata": {
    "collapsed": false
   }
  },
  {
   "cell_type": "code",
   "execution_count": 6,
   "outputs": [
    {
     "data": {
      "text/plain": "                                                    text  sdg  agreement\n0      gender perspective Paulgaard points labour mar...    5   0.750000\n1      Labour legislation regulates maximum working h...   11   0.333333\n2      average figure also masks large differences ac...    3   0.714286\n3      extent akin corruption difficult assess 2005 g...    3   0.333333\n4      region reporting higher rate earn points indic...    3   0.000000\n...                                                  ...  ...        ...\n32115  also features individual accountability means ...    4   1.000000\n32116  Since full capacity likely utilized multiply p...    7   0.111111\n32117  Groundwater quality also affected contaminatio...    6   1.000000\n32118  Remedier ces lacunes est la recommandation pri...    2   0.000000\n32119  three diseases resulted greatest number lost l...    3   0.600000\n\n[32120 rows x 3 columns]",
      "text/html": "<div>\n<style scoped>\n    .dataframe tbody tr th:only-of-type {\n        vertical-align: middle;\n    }\n\n    .dataframe tbody tr th {\n        vertical-align: top;\n    }\n\n    .dataframe thead th {\n        text-align: right;\n    }\n</style>\n<table border=\"1\" class=\"dataframe\">\n  <thead>\n    <tr style=\"text-align: right;\">\n      <th></th>\n      <th>text</th>\n      <th>sdg</th>\n      <th>agreement</th>\n    </tr>\n  </thead>\n  <tbody>\n    <tr>\n      <th>0</th>\n      <td>gender perspective Paulgaard points labour mar...</td>\n      <td>5</td>\n      <td>0.750000</td>\n    </tr>\n    <tr>\n      <th>1</th>\n      <td>Labour legislation regulates maximum working h...</td>\n      <td>11</td>\n      <td>0.333333</td>\n    </tr>\n    <tr>\n      <th>2</th>\n      <td>average figure also masks large differences ac...</td>\n      <td>3</td>\n      <td>0.714286</td>\n    </tr>\n    <tr>\n      <th>3</th>\n      <td>extent akin corruption difficult assess 2005 g...</td>\n      <td>3</td>\n      <td>0.333333</td>\n    </tr>\n    <tr>\n      <th>4</th>\n      <td>region reporting higher rate earn points indic...</td>\n      <td>3</td>\n      <td>0.000000</td>\n    </tr>\n    <tr>\n      <th>...</th>\n      <td>...</td>\n      <td>...</td>\n      <td>...</td>\n    </tr>\n    <tr>\n      <th>32115</th>\n      <td>also features individual accountability means ...</td>\n      <td>4</td>\n      <td>1.000000</td>\n    </tr>\n    <tr>\n      <th>32116</th>\n      <td>Since full capacity likely utilized multiply p...</td>\n      <td>7</td>\n      <td>0.111111</td>\n    </tr>\n    <tr>\n      <th>32117</th>\n      <td>Groundwater quality also affected contaminatio...</td>\n      <td>6</td>\n      <td>1.000000</td>\n    </tr>\n    <tr>\n      <th>32118</th>\n      <td>Remedier ces lacunes est la recommandation pri...</td>\n      <td>2</td>\n      <td>0.000000</td>\n    </tr>\n    <tr>\n      <th>32119</th>\n      <td>three diseases resulted greatest number lost l...</td>\n      <td>3</td>\n      <td>0.600000</td>\n    </tr>\n  </tbody>\n</table>\n<p>32120 rows × 3 columns</p>\n</div>"
     },
     "execution_count": 6,
     "metadata": {},
     "output_type": "execute_result"
    }
   ],
   "source": [
    "df['text'] = df['text'].apply(text_process)\n",
    "df"
   ],
   "metadata": {
    "collapsed": false
   }
  },
  {
   "cell_type": "code",
   "execution_count": 7,
   "outputs": [
    {
     "data": {
      "text/plain": "'gender perspective Paulgaard points labour markets fishing villages highly gendersegregated terms existence male jobs female jobs however new business opportunities led male population peripheral areas working service industry former female jobs boys girls jobs indicates change traditional boundaries women mens work crossed fact young people still working represents continuity past Paulgaard 2002 102 Paulgaard refers continuity traditions refers expectations young adults participate adult culture thus fishing villages traditionally actual youth culture described earlier Paulgaard 2015 concludes Norways peripheral areas school still foreign time waster stealing time young adults instead spend time considered real work'"
     },
     "execution_count": 7,
     "metadata": {},
     "output_type": "execute_result"
    }
   ],
   "source": [
    "df.iloc[0][0]"
   ],
   "metadata": {
    "collapsed": false
   }
  },
  {
   "cell_type": "markdown",
   "source": [
    "### Handle missing value"
   ],
   "metadata": {
    "collapsed": false
   }
  },
  {
   "cell_type": "code",
   "execution_count": 9,
   "outputs": [
    {
     "data": {
      "text/plain": "                                                    text  sdg  agreement\n0      gender perspective Paulgaard points labour mar...    5   0.750000\n1      Labour legislation regulates maximum working h...   11   0.333333\n2      average figure also masks large differences ac...    3   0.714286\n3      extent akin corruption difficult assess 2005 g...    3   0.333333\n4      region reporting higher rate earn points indic...    3   0.000000\n...                                                  ...  ...        ...\n32115  also features individual accountability means ...    4   1.000000\n32116  Since full capacity likely utilized multiply p...    7   0.111111\n32117  Groundwater quality also affected contaminatio...    6   1.000000\n32118  Remedier ces lacunes est la recommandation pri...    2   0.000000\n32119  three diseases resulted greatest number lost l...    3   0.600000\n\n[32120 rows x 3 columns]",
      "text/html": "<div>\n<style scoped>\n    .dataframe tbody tr th:only-of-type {\n        vertical-align: middle;\n    }\n\n    .dataframe tbody tr th {\n        vertical-align: top;\n    }\n\n    .dataframe thead th {\n        text-align: right;\n    }\n</style>\n<table border=\"1\" class=\"dataframe\">\n  <thead>\n    <tr style=\"text-align: right;\">\n      <th></th>\n      <th>text</th>\n      <th>sdg</th>\n      <th>agreement</th>\n    </tr>\n  </thead>\n  <tbody>\n    <tr>\n      <th>0</th>\n      <td>gender perspective Paulgaard points labour mar...</td>\n      <td>5</td>\n      <td>0.750000</td>\n    </tr>\n    <tr>\n      <th>1</th>\n      <td>Labour legislation regulates maximum working h...</td>\n      <td>11</td>\n      <td>0.333333</td>\n    </tr>\n    <tr>\n      <th>2</th>\n      <td>average figure also masks large differences ac...</td>\n      <td>3</td>\n      <td>0.714286</td>\n    </tr>\n    <tr>\n      <th>3</th>\n      <td>extent akin corruption difficult assess 2005 g...</td>\n      <td>3</td>\n      <td>0.333333</td>\n    </tr>\n    <tr>\n      <th>4</th>\n      <td>region reporting higher rate earn points indic...</td>\n      <td>3</td>\n      <td>0.000000</td>\n    </tr>\n    <tr>\n      <th>...</th>\n      <td>...</td>\n      <td>...</td>\n      <td>...</td>\n    </tr>\n    <tr>\n      <th>32115</th>\n      <td>also features individual accountability means ...</td>\n      <td>4</td>\n      <td>1.000000</td>\n    </tr>\n    <tr>\n      <th>32116</th>\n      <td>Since full capacity likely utilized multiply p...</td>\n      <td>7</td>\n      <td>0.111111</td>\n    </tr>\n    <tr>\n      <th>32117</th>\n      <td>Groundwater quality also affected contaminatio...</td>\n      <td>6</td>\n      <td>1.000000</td>\n    </tr>\n    <tr>\n      <th>32118</th>\n      <td>Remedier ces lacunes est la recommandation pri...</td>\n      <td>2</td>\n      <td>0.000000</td>\n    </tr>\n    <tr>\n      <th>32119</th>\n      <td>three diseases resulted greatest number lost l...</td>\n      <td>3</td>\n      <td>0.600000</td>\n    </tr>\n  </tbody>\n</table>\n<p>32120 rows × 3 columns</p>\n</div>"
     },
     "execution_count": 9,
     "metadata": {},
     "output_type": "execute_result"
    }
   ],
   "source": [
    "import numpy as np\n",
    "\n",
    "df[\"text\"].replace(\" \", np.nan, inplace=True)\n",
    "df[\"text\"].replace(\"\", np.nan, inplace=True)\n",
    "df = df.dropna(subset=[\"text\"])\n",
    "df"
   ],
   "metadata": {
    "collapsed": false
   }
  },
  {
   "cell_type": "markdown",
   "source": [
    "## Distribution"
   ],
   "metadata": {
    "collapsed": false
   }
  },
  {
   "cell_type": "code",
   "execution_count": 10,
   "outputs": [
    {
     "data": {
      "text/plain": "<Figure size 640x480 with 1 Axes>",
      "image/png": "[encoded data removed]"
     },
     "metadata": {},
     "output_type": "display_data"
    },
    {
     "name": "stderr",
     "output_type": "stream",
     "text": [
      "[nltk_data] Downloading package punkt to /Users/pan/nltk_data...\n",
      "[nltk_data]   Package punkt is already up-to-date!\n"
     ]
    }
   ],
   "source": [
    "df['sdg'].value_counts()\n",
    "sdg_counts = df['sdg'].value_counts()\n",
    "plt.bar(sdg_counts.index, sdg_counts.values)\n",
    "\n",
    "plt.xticks(sdg_counts.index)\n",
    "plt.xlabel('SDG')\n",
    "plt.ylabel('Count')\n",
    "plt.title('Distribution of SDG labels')\n",
    "\n",
    "plt.show()\n",
    "# Import nltk packages and Punkt Tokenizer Models\n",
    "import nltk\n",
    "\n",
    "nltk.download(\"punkt\")\n",
    "import warnings\n",
    "\n",
    "warnings.filterwarnings('ignore')"
   ],
   "metadata": {
    "collapsed": false
   }
  },
  {
   "cell_type": "markdown",
   "source": [
    "## Create WordClouds\n"
   ],
   "metadata": {
    "collapsed": false
   }
  },
  {
   "cell_type": "code",
   "execution_count": null,
   "outputs": [],
   "source": [
    "## TODO:"
   ],
   "metadata": {
    "collapsed": false
   }
  },
  {
   "cell_type": "markdown",
   "source": [
    "## Convert words to vectors using TFIDF Vectorizer"
   ],
   "metadata": {
    "collapsed": false
   }
  },
  {
   "cell_type": "code",
   "execution_count": null,
   "outputs": [],
   "source": [
    "## TODO:"
   ],
   "metadata": {
    "collapsed": false
   }
  },
  {
   "cell_type": "markdown",
   "source": [
    "## Select confident instances"
   ],
   "metadata": {
    "collapsed": false
   }
  },
  {
   "cell_type": "code",
   "execution_count": 5,
   "outputs": [],
   "source": [
    "# select confident instances (based on agreement score) to train the model\n",
    "data_agreement = data[data['agreement'] >= 0.6]"
   ],
   "metadata": {
    "collapsed": false
   }
  },
  {
   "cell_type": "markdown",
   "source": [
    "## Create K means label"
   ],
   "metadata": {
    "collapsed": false
   }
  },
  {
   "cell_type": "code",
   "execution_count": null,
   "outputs": [],
   "source": [
    "## TODO:"
   ],
   "metadata": {
    "collapsed": false
   }
  },
  {
   "cell_type": "markdown",
   "source": [
    "## Split data into training and test set"
   ],
   "metadata": {
    "collapsed": false
   }
  },
  {
   "cell_type": "code",
   "execution_count": null,
   "outputs": [],
   "source": [
    "## TODO:"
   ],
   "metadata": {
    "collapsed": false
   }
  },
  {
   "cell_type": "markdown",
   "source": [
    "## Model training"
   ],
   "metadata": {
    "collapsed": false
   }
  },
  {
   "cell_type": "code",
   "execution_count": null,
   "outputs": [],
   "source": [
    "## TODO: K means label"
   ],
   "metadata": {
    "collapsed": false
   }
  },
  {
   "cell_type": "code",
   "execution_count": null,
   "outputs": [],
   "source": [
    "## TODO: original label"
   ],
   "metadata": {
    "collapsed": false
   }
  },
  {
   "cell_type": "markdown",
   "source": [
    "## Evaluate metric"
   ],
   "metadata": {
    "collapsed": false
   }
  },
  {
   "cell_type": "code",
   "execution_count": null,
   "outputs": [],
   "source": [
    "## TODO: accuracy，f1 score"
   ],
   "metadata": {
    "collapsed": false
   }
  }
 ],
 "metadata": {
  "kernelspec": {
   "display_name": "Python 3",
   "language": "python",
   "name": "python3"
  },
  "language_info": {
   "codemirror_mode": {
    "name": "ipython",
    "version": 2
   },
   "file_extension": ".py",
   "mimetype": "text/x-python",
   "name": "python",
   "nbconvert_exporter": "python",
   "pygments_lexer": "ipython2",
   "version": "2.7.6"
  }
 },
 "nbformat": 4,
 "nbformat_minor": 0
}
